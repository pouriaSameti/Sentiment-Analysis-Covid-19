{
 "cells": [
  {
   "cell_type": "code",
   "execution_count": 4,
   "outputs": [],
   "source": [
    "import numpy as np\n",
    "import pandas as pd"
   ],
   "metadata": {
    "collapsed": false,
    "pycharm": {
     "name": "#%%\n"
    }
   }
  },
  {
   "cell_type": "code",
   "execution_count": 5,
   "outputs": [],
   "source": [
    "first_part = pd.read_csv('Data/Covid-19 Twitter Dataset (Apr-Jun 2020).csv')\n",
    "second_part = pd.read_csv('Data/Covid-19 Twitter Dataset (Apr-Jun 2021).csv')\n",
    "third_part = pd.read_csv('Data/Covid-19 Twitter Dataset (Aug-Sep 2020).csv')\n",
    "\n",
    "data = pd.concat([first_part, second_part, third_part])\n",
    "data = data.sample(n=100000, replace=False, random_state=42)"
   ],
   "metadata": {
    "collapsed": false,
    "pycharm": {
     "name": "#%%\n"
    }
   }
  },
  {
   "cell_type": "code",
   "execution_count": 6,
   "outputs": [
    {
     "data": {
      "text/plain": "                                                 hashtags  \\\n77480                                                 NaN   \n124798                                            COVID19   \n39675                                                 NaN   \n26610   AWS, DataLake, COVID19, BigData, Analytics, Da...   \n85352                                                 NaN   \n...                                                   ...   \n94066                                                 NaN   \n75849       IndiaFightsCorona, 𝑽𝒂𝒄𝒄𝒊𝒏𝒂𝒕𝒊𝒐𝒏𝑫𝒓𝒊𝒗𝒆, StaySafe   \n10145                                                 NaN   \n118143                                                NaN   \n103249                                                NaN   \n\n                                              clean_tweet  \n77480   presid trump travel week diagnos covid19 sept ...  \n124798  three stori england lockdown eas delay juli pu...  \n39675   know citi chicago interact test map find covid...  \n26610                             public analysi data via  \n85352   start cost save safeti measur juvenil justic p...  \n...                                                   ...  \n94066   morn ask anybodi care iowa covid19 dead subhea...  \n75849                                              follow  \n10145                      africa covid19 case africa cdc  \n118143  hockey canada foundat launch million dollar fu...  \n103249  full room white hous jen psaki announc today w...  \n\n[100000 rows x 2 columns]",
      "text/html": "<div>\n<style scoped>\n    .dataframe tbody tr th:only-of-type {\n        vertical-align: middle;\n    }\n\n    .dataframe tbody tr th {\n        vertical-align: top;\n    }\n\n    .dataframe thead th {\n        text-align: right;\n    }\n</style>\n<table border=\"1\" class=\"dataframe\">\n  <thead>\n    <tr style=\"text-align: right;\">\n      <th></th>\n      <th>hashtags</th>\n      <th>clean_tweet</th>\n    </tr>\n  </thead>\n  <tbody>\n    <tr>\n      <th>77480</th>\n      <td>NaN</td>\n      <td>presid trump travel week diagnos covid19 sept ...</td>\n    </tr>\n    <tr>\n      <th>124798</th>\n      <td>COVID19</td>\n      <td>three stori england lockdown eas delay juli pu...</td>\n    </tr>\n    <tr>\n      <th>39675</th>\n      <td>NaN</td>\n      <td>know citi chicago interact test map find covid...</td>\n    </tr>\n    <tr>\n      <th>26610</th>\n      <td>AWS, DataLake, COVID19, BigData, Analytics, Da...</td>\n      <td>public analysi data via</td>\n    </tr>\n    <tr>\n      <th>85352</th>\n      <td>NaN</td>\n      <td>start cost save safeti measur juvenil justic p...</td>\n    </tr>\n    <tr>\n      <th>...</th>\n      <td>...</td>\n      <td>...</td>\n    </tr>\n    <tr>\n      <th>94066</th>\n      <td>NaN</td>\n      <td>morn ask anybodi care iowa covid19 dead subhea...</td>\n    </tr>\n    <tr>\n      <th>75849</th>\n      <td>IndiaFightsCorona, 𝑽𝒂𝒄𝒄𝒊𝒏𝒂𝒕𝒊𝒐𝒏𝑫𝒓𝒊𝒗𝒆, StaySafe</td>\n      <td>follow</td>\n    </tr>\n    <tr>\n      <th>10145</th>\n      <td>NaN</td>\n      <td>africa covid19 case africa cdc</td>\n    </tr>\n    <tr>\n      <th>118143</th>\n      <td>NaN</td>\n      <td>hockey canada foundat launch million dollar fu...</td>\n    </tr>\n    <tr>\n      <th>103249</th>\n      <td>NaN</td>\n      <td>full room white hous jen psaki announc today w...</td>\n    </tr>\n  </tbody>\n</table>\n<p>100000 rows × 2 columns</p>\n</div>"
     },
     "execution_count": 6,
     "metadata": {},
     "output_type": "execute_result"
    }
   ],
   "source": [
    "#filtering Data\n",
    "data_filtered = data.drop(columns=['id', 'created_at', 'source', 'user_mentions', 'lang', 'place', 'original_text',\n",
    "                                   'favorite_count', 'retweet_count', 'original_author', 'compound', 'neg', 'neu', 'pos', 'sentiment'])\n",
    "data_filtered"
   ],
   "metadata": {
    "collapsed": false,
    "pycharm": {
     "name": "#%%\n"
    }
   }
  },
  {
   "cell_type": "code",
   "execution_count": 7,
   "outputs": [],
   "source": [
    "#preparing Data\n",
    "\n",
    "def concat_tweet_hashtag(record):\n",
    "    if  type(record['hashtags']) is str:\n",
    "        return str(str(record['clean_tweet']) + ' ' + str(record['hashtags']))\n",
    "    return str(record['clean_tweet'])\n",
    "\n",
    "data_filtered['tweet_hashtag'] = data_filtered.apply(concat_tweet_hashtag, axis=1)\n",
    "data_filtered = data_filtered.drop(columns=['clean_tweet', 'hashtags'])\n",
    "df = data_filtered"
   ],
   "metadata": {
    "collapsed": false,
    "pycharm": {
     "name": "#%%\n"
    }
   }
  },
  {
   "cell_type": "code",
   "execution_count": 8,
   "outputs": [
    {
     "data": {
      "text/plain": "                                            tweet_hashtag\n77480   presid trump travel week diagnos  sept trump h...\n124798  three stori england lockdown eas delay juli pu...\n39675   know citi chicago interact test map find  test...\n26610   public analysi data via aws datalake  bigdata ...\n85352   start cost save safeti measur juvenil justic p...\n...                                                   ...\n94066   morn ask anybodi care iowa  dead subheadlin telli\n75849   follow indiafightscorona 𝑽𝒂𝒄𝒄𝒊𝒏𝒂𝒕𝒊𝒐𝒏𝑫𝒓𝒊𝒗𝒆 stay...\n10145                             africa  case africa cdc\n118143  hockey canada foundat launch million dollar fu...\n103249  full room white hous jen psaki announc today w...\n\n[100000 rows x 1 columns]",
      "text/html": "<div>\n<style scoped>\n    .dataframe tbody tr th:only-of-type {\n        vertical-align: middle;\n    }\n\n    .dataframe tbody tr th {\n        vertical-align: top;\n    }\n\n    .dataframe thead th {\n        text-align: right;\n    }\n</style>\n<table border=\"1\" class=\"dataframe\">\n  <thead>\n    <tr style=\"text-align: right;\">\n      <th></th>\n      <th>tweet_hashtag</th>\n    </tr>\n  </thead>\n  <tbody>\n    <tr>\n      <th>77480</th>\n      <td>presid trump travel week diagnos  sept trump h...</td>\n    </tr>\n    <tr>\n      <th>124798</th>\n      <td>three stori england lockdown eas delay juli pu...</td>\n    </tr>\n    <tr>\n      <th>39675</th>\n      <td>know citi chicago interact test map find  test...</td>\n    </tr>\n    <tr>\n      <th>26610</th>\n      <td>public analysi data via aws datalake  bigdata ...</td>\n    </tr>\n    <tr>\n      <th>85352</th>\n      <td>start cost save safeti measur juvenil justic p...</td>\n    </tr>\n    <tr>\n      <th>...</th>\n      <td>...</td>\n    </tr>\n    <tr>\n      <th>94066</th>\n      <td>morn ask anybodi care iowa  dead subheadlin telli</td>\n    </tr>\n    <tr>\n      <th>75849</th>\n      <td>follow indiafightscorona 𝑽𝒂𝒄𝒄𝒊𝒏𝒂𝒕𝒊𝒐𝒏𝑫𝒓𝒊𝒗𝒆 stay...</td>\n    </tr>\n    <tr>\n      <th>10145</th>\n      <td>africa  case africa cdc</td>\n    </tr>\n    <tr>\n      <th>118143</th>\n      <td>hockey canada foundat launch million dollar fu...</td>\n    </tr>\n    <tr>\n      <th>103249</th>\n      <td>full room white hous jen psaki announc today w...</td>\n    </tr>\n  </tbody>\n</table>\n<p>100000 rows × 1 columns</p>\n</div>"
     },
     "execution_count": 8,
     "metadata": {},
     "output_type": "execute_result"
    }
   ],
   "source": [
    "#cleaning data\n",
    "import re\n",
    "import string\n",
    "\n",
    "def clean_text(text):\n",
    "    text = text.lower()\n",
    "    text = re.sub('\\[.*?\\]', '', text)\n",
    "    text = re.sub('https?://\\S+|www\\.\\S+', '', text)\n",
    "    text = re.sub('<.*?>+', '', text)\n",
    "    text = re.sub('[%s]' % re.escape(string.punctuation), '', text)\n",
    "    text = re.sub('\\n', '', text)\n",
    "    text = re.sub('\\w*\\d\\w*', '', text)\n",
    "    return text\n",
    "\n",
    "df['tweet_hashtag'] = df['tweet_hashtag'].apply(clean_text)\n",
    "df"
   ],
   "metadata": {
    "collapsed": false,
    "pycharm": {
     "name": "#%%\n"
    }
   }
  },
  {
   "cell_type": "code",
   "execution_count": 9,
   "outputs": [
    {
     "data": {
      "text/plain": "                                            tweet_hashtag\n77480   [presid, trump, travel, week, diagnos, sept, t...\n124798  [three, stori, england, lockdown, eas, delay, ...\n39675   [know, citi, chicago, interact, test, map, fin...\n26610   [public, analysi, data, via, aws, datalake, bi...\n85352   [start, cost, save, safeti, measur, juvenil, j...\n...                                                   ...\n94066   [morn, ask, anybodi, care, iowa, dead, subhead...\n75849   [follow, indiafightscorona, 𝑽𝒂𝒄𝒄𝒊𝒏𝒂𝒕𝒊𝒐𝒏𝑫𝒓𝒊𝒗𝒆, ...\n10145                         [africa, case, africa, cdc]\n118143  [hockey, canada, foundat, launch, million, dol...\n103249  [full, room, white, hous, jen, psaki, announc,...\n\n[100000 rows x 1 columns]",
      "text/html": "<div>\n<style scoped>\n    .dataframe tbody tr th:only-of-type {\n        vertical-align: middle;\n    }\n\n    .dataframe tbody tr th {\n        vertical-align: top;\n    }\n\n    .dataframe thead th {\n        text-align: right;\n    }\n</style>\n<table border=\"1\" class=\"dataframe\">\n  <thead>\n    <tr style=\"text-align: right;\">\n      <th></th>\n      <th>tweet_hashtag</th>\n    </tr>\n  </thead>\n  <tbody>\n    <tr>\n      <th>77480</th>\n      <td>[presid, trump, travel, week, diagnos, sept, t...</td>\n    </tr>\n    <tr>\n      <th>124798</th>\n      <td>[three, stori, england, lockdown, eas, delay, ...</td>\n    </tr>\n    <tr>\n      <th>39675</th>\n      <td>[know, citi, chicago, interact, test, map, fin...</td>\n    </tr>\n    <tr>\n      <th>26610</th>\n      <td>[public, analysi, data, via, aws, datalake, bi...</td>\n    </tr>\n    <tr>\n      <th>85352</th>\n      <td>[start, cost, save, safeti, measur, juvenil, j...</td>\n    </tr>\n    <tr>\n      <th>...</th>\n      <td>...</td>\n    </tr>\n    <tr>\n      <th>94066</th>\n      <td>[morn, ask, anybodi, care, iowa, dead, subhead...</td>\n    </tr>\n    <tr>\n      <th>75849</th>\n      <td>[follow, indiafightscorona, 𝑽𝒂𝒄𝒄𝒊𝒏𝒂𝒕𝒊𝒐𝒏𝑫𝒓𝒊𝒗𝒆, ...</td>\n    </tr>\n    <tr>\n      <th>10145</th>\n      <td>[africa, case, africa, cdc]</td>\n    </tr>\n    <tr>\n      <th>118143</th>\n      <td>[hockey, canada, foundat, launch, million, dol...</td>\n    </tr>\n    <tr>\n      <th>103249</th>\n      <td>[full, room, white, hous, jen, psaki, announc,...</td>\n    </tr>\n  </tbody>\n</table>\n<p>100000 rows × 1 columns</p>\n</div>"
     },
     "execution_count": 9,
     "metadata": {},
     "output_type": "execute_result"
    }
   ],
   "source": [
    "# Tokenizing\n",
    "import nltk\n",
    "\n",
    "tokenizer = nltk.tokenize.RegexpTokenizer(r'\\w+')\n",
    "df['tweet_hashtag'] = df['tweet_hashtag'].apply(lambda x: tokenizer.tokenize(x))\n",
    "df"
   ],
   "metadata": {
    "collapsed": false,
    "pycharm": {
     "name": "#%%\n"
    }
   }
  },
  {
   "cell_type": "code",
   "execution_count": 10,
   "outputs": [
    {
     "data": {
      "text/plain": "                                            tweet_hashtag\n77480   [presid, trump, travel, week, diagnos, sept, t...\n124798  [three, stori, england, lockdown, eas, delay, ...\n39675   [know, citi, chicago, interact, test, map, fin...\n26610   [public, analysi, data, via, aws, datalake, bi...\n85352   [start, cost, save, safeti, measur, juvenil, j...\n...                                                   ...\n94066   [morn, ask, anybodi, care, iowa, dead, subhead...\n75849   [follow, indiafightscorona, 𝑽𝒂𝒄𝒄𝒊𝒏𝒂𝒕𝒊𝒐𝒏𝑫𝒓𝒊𝒗𝒆, ...\n10145                         [africa, case, africa, cdc]\n118143  [hockey, canada, foundat, launch, million, dol...\n103249  [full, room, white, hous, jen, psaki, announc,...\n\n[100000 rows x 1 columns]",
      "text/html": "<div>\n<style scoped>\n    .dataframe tbody tr th:only-of-type {\n        vertical-align: middle;\n    }\n\n    .dataframe tbody tr th {\n        vertical-align: top;\n    }\n\n    .dataframe thead th {\n        text-align: right;\n    }\n</style>\n<table border=\"1\" class=\"dataframe\">\n  <thead>\n    <tr style=\"text-align: right;\">\n      <th></th>\n      <th>tweet_hashtag</th>\n    </tr>\n  </thead>\n  <tbody>\n    <tr>\n      <th>77480</th>\n      <td>[presid, trump, travel, week, diagnos, sept, t...</td>\n    </tr>\n    <tr>\n      <th>124798</th>\n      <td>[three, stori, england, lockdown, eas, delay, ...</td>\n    </tr>\n    <tr>\n      <th>39675</th>\n      <td>[know, citi, chicago, interact, test, map, fin...</td>\n    </tr>\n    <tr>\n      <th>26610</th>\n      <td>[public, analysi, data, via, aws, datalake, bi...</td>\n    </tr>\n    <tr>\n      <th>85352</th>\n      <td>[start, cost, save, safeti, measur, juvenil, j...</td>\n    </tr>\n    <tr>\n      <th>...</th>\n      <td>...</td>\n    </tr>\n    <tr>\n      <th>94066</th>\n      <td>[morn, ask, anybodi, care, iowa, dead, subhead...</td>\n    </tr>\n    <tr>\n      <th>75849</th>\n      <td>[follow, indiafightscorona, 𝑽𝒂𝒄𝒄𝒊𝒏𝒂𝒕𝒊𝒐𝒏𝑫𝒓𝒊𝒗𝒆, ...</td>\n    </tr>\n    <tr>\n      <th>10145</th>\n      <td>[africa, case, africa, cdc]</td>\n    </tr>\n    <tr>\n      <th>118143</th>\n      <td>[hockey, canada, foundat, launch, million, dol...</td>\n    </tr>\n    <tr>\n      <th>103249</th>\n      <td>[full, room, white, hous, jen, psaki, announc,...</td>\n    </tr>\n  </tbody>\n</table>\n<p>100000 rows × 1 columns</p>\n</div>"
     },
     "execution_count": 10,
     "metadata": {},
     "output_type": "execute_result"
    }
   ],
   "source": [
    "# stopwords removal\n",
    "from nltk.corpus import stopwords\n",
    "\n",
    "def remove_stopwords(text):\n",
    "    stop_words = list(set(stopwords.words('english')))\n",
    "    words = [w for w in text if w not in stop_words]\n",
    "    return words\n",
    "df['tweet_hashtag'] = df.apply(remove_stopwords)\n",
    "df"
   ],
   "metadata": {
    "collapsed": false,
    "pycharm": {
     "name": "#%%\n"
    }
   }
  },
  {
   "cell_type": "code",
   "execution_count": 11,
   "outputs": [
    {
     "data": {
      "text/plain": "                                            tweet_hashtag\n77480   presid trump travel week diagnos sept trump ho...\n124798  three stori england lockdown eas delay juli pu...\n39675   know citi chicago interact test map find test ...\n26610   public analysi data via aws datalake bigdata a...\n85352   start cost save safeti measur juvenil justic p...\n...                                                   ...\n94066    morn ask anybodi care iowa dead subheadlin telli\n75849   follow indiafightscorona 𝑽𝒂𝒄𝒄𝒊𝒏𝒂𝒕𝒊𝒐𝒏𝑫𝒓𝒊𝒗𝒆 stay...\n10145                              africa case africa cdc\n118143  hockey canada foundat launch million dollar fu...\n103249  full room white hous jen psaki announc today w...\n\n[100000 rows x 1 columns]",
      "text/html": "<div>\n<style scoped>\n    .dataframe tbody tr th:only-of-type {\n        vertical-align: middle;\n    }\n\n    .dataframe tbody tr th {\n        vertical-align: top;\n    }\n\n    .dataframe thead th {\n        text-align: right;\n    }\n</style>\n<table border=\"1\" class=\"dataframe\">\n  <thead>\n    <tr style=\"text-align: right;\">\n      <th></th>\n      <th>tweet_hashtag</th>\n    </tr>\n  </thead>\n  <tbody>\n    <tr>\n      <th>77480</th>\n      <td>presid trump travel week diagnos sept trump ho...</td>\n    </tr>\n    <tr>\n      <th>124798</th>\n      <td>three stori england lockdown eas delay juli pu...</td>\n    </tr>\n    <tr>\n      <th>39675</th>\n      <td>know citi chicago interact test map find test ...</td>\n    </tr>\n    <tr>\n      <th>26610</th>\n      <td>public analysi data via aws datalake bigdata a...</td>\n    </tr>\n    <tr>\n      <th>85352</th>\n      <td>start cost save safeti measur juvenil justic p...</td>\n    </tr>\n    <tr>\n      <th>...</th>\n      <td>...</td>\n    </tr>\n    <tr>\n      <th>94066</th>\n      <td>morn ask anybodi care iowa dead subheadlin telli</td>\n    </tr>\n    <tr>\n      <th>75849</th>\n      <td>follow indiafightscorona 𝑽𝒂𝒄𝒄𝒊𝒏𝒂𝒕𝒊𝒐𝒏𝑫𝒓𝒊𝒗𝒆 stay...</td>\n    </tr>\n    <tr>\n      <th>10145</th>\n      <td>africa case africa cdc</td>\n    </tr>\n    <tr>\n      <th>118143</th>\n      <td>hockey canada foundat launch million dollar fu...</td>\n    </tr>\n    <tr>\n      <th>103249</th>\n      <td>full room white hous jen psaki announc today w...</td>\n    </tr>\n  </tbody>\n</table>\n<p>100000 rows × 1 columns</p>\n</div>"
     },
     "execution_count": 11,
     "metadata": {},
     "output_type": "execute_result"
    }
   ],
   "source": [
    "# combining texts\n",
    "\n",
    "def combine_text(list_of_text):\n",
    "    combined_text = ' '.join(list_of_text)\n",
    "    return combined_text\n",
    "\n",
    "df['tweet_hashtag'] = df['tweet_hashtag'].apply(lambda x: combine_text(x))\n",
    "df"
   ],
   "metadata": {
    "collapsed": false,
    "pycharm": {
     "name": "#%%\n"
    }
   }
  },
  {
   "cell_type": "code",
   "execution_count": 12,
   "outputs": [
    {
     "data": {
      "text/plain": "<100000x50557 sparse matrix of type '<class 'numpy.int64'>'\n\twith 907983 stored elements in Compressed Sparse Row format>"
     },
     "execution_count": 12,
     "metadata": {},
     "output_type": "execute_result"
    }
   ],
   "source": [
    "#vectorizing data\n",
    "from sklearn.feature_extraction.text import CountVectorizer\n",
    "\n",
    "count_vec = CountVectorizer()\n",
    "df_vec = count_vec.fit_transform(df['tweet_hashtag'])\n",
    "df_vec"
   ],
   "metadata": {
    "collapsed": false,
    "pycharm": {
     "name": "#%%\n"
    }
   }
  },
  {
   "cell_type": "code",
   "execution_count": 19,
   "outputs": [
    {
     "data": {
      "text/plain": "          word  frequency\n47226   vaccin       8917\n6917      case       7829\n30346      new       7595\n44176     test       6120\n33415    peopl       5827\n...        ...        ...\n4602     bhula          1\n25027    leann          1\n25026   leaner          1\n25025  leandro          1\n29194      muh          1\n\n[50557 rows x 2 columns]",
      "text/html": "<div>\n<style scoped>\n    .dataframe tbody tr th:only-of-type {\n        vertical-align: middle;\n    }\n\n    .dataframe tbody tr th {\n        vertical-align: top;\n    }\n\n    .dataframe thead th {\n        text-align: right;\n    }\n</style>\n<table border=\"1\" class=\"dataframe\">\n  <thead>\n    <tr style=\"text-align: right;\">\n      <th></th>\n      <th>word</th>\n      <th>frequency</th>\n    </tr>\n  </thead>\n  <tbody>\n    <tr>\n      <th>47226</th>\n      <td>vaccin</td>\n      <td>8917</td>\n    </tr>\n    <tr>\n      <th>6917</th>\n      <td>case</td>\n      <td>7829</td>\n    </tr>\n    <tr>\n      <th>30346</th>\n      <td>new</td>\n      <td>7595</td>\n    </tr>\n    <tr>\n      <th>44176</th>\n      <td>test</td>\n      <td>6120</td>\n    </tr>\n    <tr>\n      <th>33415</th>\n      <td>peopl</td>\n      <td>5827</td>\n    </tr>\n    <tr>\n      <th>...</th>\n      <td>...</td>\n      <td>...</td>\n    </tr>\n    <tr>\n      <th>4602</th>\n      <td>bhula</td>\n      <td>1</td>\n    </tr>\n    <tr>\n      <th>25027</th>\n      <td>leann</td>\n      <td>1</td>\n    </tr>\n    <tr>\n      <th>25026</th>\n      <td>leaner</td>\n      <td>1</td>\n    </tr>\n    <tr>\n      <th>25025</th>\n      <td>leandro</td>\n      <td>1</td>\n    </tr>\n    <tr>\n      <th>29194</th>\n      <td>muh</td>\n      <td>1</td>\n    </tr>\n  </tbody>\n</table>\n<p>50557 rows × 2 columns</p>\n</div>"
     },
     "execution_count": 19,
     "metadata": {},
     "output_type": "execute_result"
    }
   ],
   "source": [
    "#Exracting words with frequencies\n",
    "\n",
    "features = count_vec.get_feature_names_out()\n",
    "\n",
    "data_words = pd.DataFrame()\n",
    "data_words['word'] = count_vec.get_feature_names_out()\n",
    "data_words['frequency'] = np.asarray(df_vec.sum(axis=0)).ravel()\n",
    "data_words = data_words.sort_values(by='frequency', ascending=False)\n",
    "data_words"
   ],
   "metadata": {
    "collapsed": false,
    "pycharm": {
     "name": "#%%\n"
    }
   }
  },
  {
   "cell_type": "code",
   "execution_count": 17,
   "outputs": [],
   "source": [],
   "metadata": {
    "collapsed": false,
    "pycharm": {
     "name": "#%%\n"
    }
   }
  }
 ],
 "metadata": {
  "kernelspec": {
   "display_name": "Python 3",
   "language": "python",
   "name": "python3"
  },
  "language_info": {
   "codemirror_mode": {
    "name": "ipython",
    "version": 2
   },
   "file_extension": ".py",
   "mimetype": "text/x-python",
   "name": "python",
   "nbconvert_exporter": "python",
   "pygments_lexer": "ipython2",
   "version": "2.7.6"
  }
 },
 "nbformat": 4,
 "nbformat_minor": 0
}