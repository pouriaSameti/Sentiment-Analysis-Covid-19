{
 "cells": [
  {
   "cell_type": "code",
   "execution_count": 3,
   "outputs": [],
   "source": [
    "import pandas as pd"
   ],
   "metadata": {
    "collapsed": false,
    "pycharm": {
     "name": "#%%\n"
    }
   }
  },
  {
   "cell_type": "code",
   "execution_count": 9,
   "outputs": [
    {
     "data": {
      "text/plain": "                  id  created_at  \\\n0       1.250000e+18  2020-04-19   \n1       1.250000e+18  2020-04-19   \n2       1.250000e+18  2020-04-19   \n3       1.250000e+18  2020-04-19   \n4       1.250000e+18  2020-04-19   \n...              ...         ...   \n120504  1.320000e+18  2020-10-20   \n120505  1.320000e+18  2020-10-20   \n120506  1.320000e+18  2020-10-20   \n120507  1.320000e+18  2020-10-20   \n120508  1.320000e+18  2020-10-20   \n\n                                                   source  \\\n0       <a href=\"http://twitter.com/download/android\" ...   \n1       <a href=\"http://twitter.com/download/android\" ...   \n2       <a href=\"http://twitter.com/download/iphone\" r...   \n3       <a href=\"http://twitter.com/download/iphone\" r...   \n4       <a href=\"http://twitter.com/download/android\" ...   \n...                                                   ...   \n120504  <a href=\"https://about.twitter.com/products/tw...   \n120505  <a href=\"http://twitter.com/#!/download/ipad\" ...   \n120506  <a href=\"https://mobile.twitter.com\" rel=\"nofo...   \n120507  <a href=\"https://mobile.twitter.com\" rel=\"nofo...   \n120508  <a href=\"http://twitter.com/download/iphone\" r...   \n\n                                            original_text lang  \\\n0       RT @GlblCtzn: .@priyankachopra is calling on l...   en   \n1       RT @OGSG_Official: OGUN STATE SUPPORT FOR CBN-...   en   \n2       RT @AdvoBarryRoux: These 5 police officials ba...   en   \n3       RT @MobilePunch: COVID-19: Oyo discharges two ...   en   \n4       My Condolences to the Family of those who did ...   en   \n...                                                   ...  ...   \n120504  RT @Reuters: Exclusive: AstraZeneca U.S. COVID...   en   \n120505  RT @AndrewTSaks: 5,000+ workers from 130+ coun...   en   \n120506  Culture of China-Brilliance of Huaxing\\nCelebr...   en   \n120507  Trump called CNN 'bastards' for covering Covid...   en   \n120508  Trump called CNN 'bastards' for covering Covid...   en   \n\n        favorite_count  retweet_count  original_author  hashtags  \\\n0                  0.0           31.0          RJIshak       NaN   \n1                  0.0           61.0   makinwaoluwole       NaN   \n2                  0.0            1.0         TembeAmu       NaN   \n3                  0.0            0.0       ilyasrabiu       NaN   \n4                  0.0        13869.0  bucketeconomist  Covid_19   \n...                ...            ...              ...       ...   \n120504             0.0           51.0   Sabahatjahan28       NaN   \n120505             0.0           36.0    jefwintermans       NaN   \n120506             0.0            9.0   ChinaEmbOttawa       NaN   \n120507             0.0        31451.0  maetsfollufdaeh       NaN   \n120508             0.0        28442.0          rab2510       NaN   \n\n                   user_mentions                           place  \\\n0       GlblCtzn, priyankachopra          Jakarta Capital Region   \n1                  OGSG_Official                         Nigeria   \n2                  AdvoBarryRoux                             NaN   \n3                    MobilePunch                  Lagos, Nigeria   \n4                            NaN                             NaN   \n...                          ...                             ...   \n120504                   Reuters                           India   \n120505               AndrewTSaks             Den Haag, Nederland   \n120506                       NaN  515 St. Patrick Street, Ottawa   \n120507                       NaN                             NaN   \n120508                   YouTube                Northern Ireland   \n\n                                              clean_tweet  compound    neg  \\\n0       call leader help protect refuge covid19 provid...    0.8176  0.000   \n1       ogun state support cbn nirsal covid19 target c...    0.6486  0.000   \n2       polic offici base namahadi polic station busi ...    0.2732  0.000   \n3                        covid19 oyo discharg two patient    0.0000  0.000   \n4                                    condol famili surviv    0.0000  0.000   \n...                                                   ...       ...    ...   \n120504  exclus astrazeneca covid19 vaccin trial may re...    0.0000  0.000   \n120505  worker countri sign petit reinstat worker mass...   -0.3400  0.211   \n120506  cultur china brillianc huax celebr th annivers...   -0.3818  0.191   \n120507  trump call cnn bastard cover covid19 hear keil...   -0.5423  0.304   \n120508  trump call cnn bastard cover covid19 hear keil...   -0.5423  0.280   \n\n          neu    pos sentiment  \n0       0.452  0.548       pos  \n1       0.602  0.398       pos  \n2       0.851  0.149       pos  \n3       1.000  0.000       neu  \n4       1.000  0.000       neu  \n...       ...    ...       ...  \n120504  1.000  0.000       neu  \n120505  0.789  0.000       neg  \n120506  0.809  0.000       neg  \n120507  0.696  0.000       neg  \n120508  0.720  0.000       neg  \n\n[411887 rows x 17 columns]",
      "text/html": "<div>\n<style scoped>\n    .dataframe tbody tr th:only-of-type {\n        vertical-align: middle;\n    }\n\n    .dataframe tbody tr th {\n        vertical-align: top;\n    }\n\n    .dataframe thead th {\n        text-align: right;\n    }\n</style>\n<table border=\"1\" class=\"dataframe\">\n  <thead>\n    <tr style=\"text-align: right;\">\n      <th></th>\n      <th>id</th>\n      <th>created_at</th>\n      <th>source</th>\n      <th>original_text</th>\n      <th>lang</th>\n      <th>favorite_count</th>\n      <th>retweet_count</th>\n      <th>original_author</th>\n      <th>hashtags</th>\n      <th>user_mentions</th>\n      <th>place</th>\n      <th>clean_tweet</th>\n      <th>compound</th>\n      <th>neg</th>\n      <th>neu</th>\n      <th>pos</th>\n      <th>sentiment</th>\n    </tr>\n  </thead>\n  <tbody>\n    <tr>\n      <th>0</th>\n      <td>1.250000e+18</td>\n      <td>2020-04-19</td>\n      <td>&lt;a href=\"http://twitter.com/download/android\" ...</td>\n      <td>RT @GlblCtzn: .@priyankachopra is calling on l...</td>\n      <td>en</td>\n      <td>0.0</td>\n      <td>31.0</td>\n      <td>RJIshak</td>\n      <td>NaN</td>\n      <td>GlblCtzn, priyankachopra</td>\n      <td>Jakarta Capital Region</td>\n      <td>call leader help protect refuge covid19 provid...</td>\n      <td>0.8176</td>\n      <td>0.000</td>\n      <td>0.452</td>\n      <td>0.548</td>\n      <td>pos</td>\n    </tr>\n    <tr>\n      <th>1</th>\n      <td>1.250000e+18</td>\n      <td>2020-04-19</td>\n      <td>&lt;a href=\"http://twitter.com/download/android\" ...</td>\n      <td>RT @OGSG_Official: OGUN STATE SUPPORT FOR CBN-...</td>\n      <td>en</td>\n      <td>0.0</td>\n      <td>61.0</td>\n      <td>makinwaoluwole</td>\n      <td>NaN</td>\n      <td>OGSG_Official</td>\n      <td>Nigeria</td>\n      <td>ogun state support cbn nirsal covid19 target c...</td>\n      <td>0.6486</td>\n      <td>0.000</td>\n      <td>0.602</td>\n      <td>0.398</td>\n      <td>pos</td>\n    </tr>\n    <tr>\n      <th>2</th>\n      <td>1.250000e+18</td>\n      <td>2020-04-19</td>\n      <td>&lt;a href=\"http://twitter.com/download/iphone\" r...</td>\n      <td>RT @AdvoBarryRoux: These 5 police officials ba...</td>\n      <td>en</td>\n      <td>0.0</td>\n      <td>1.0</td>\n      <td>TembeAmu</td>\n      <td>NaN</td>\n      <td>AdvoBarryRoux</td>\n      <td>NaN</td>\n      <td>polic offici base namahadi polic station busi ...</td>\n      <td>0.2732</td>\n      <td>0.000</td>\n      <td>0.851</td>\n      <td>0.149</td>\n      <td>pos</td>\n    </tr>\n    <tr>\n      <th>3</th>\n      <td>1.250000e+18</td>\n      <td>2020-04-19</td>\n      <td>&lt;a href=\"http://twitter.com/download/iphone\" r...</td>\n      <td>RT @MobilePunch: COVID-19: Oyo discharges two ...</td>\n      <td>en</td>\n      <td>0.0</td>\n      <td>0.0</td>\n      <td>ilyasrabiu</td>\n      <td>NaN</td>\n      <td>MobilePunch</td>\n      <td>Lagos, Nigeria</td>\n      <td>covid19 oyo discharg two patient</td>\n      <td>0.0000</td>\n      <td>0.000</td>\n      <td>1.000</td>\n      <td>0.000</td>\n      <td>neu</td>\n    </tr>\n    <tr>\n      <th>4</th>\n      <td>1.250000e+18</td>\n      <td>2020-04-19</td>\n      <td>&lt;a href=\"http://twitter.com/download/android\" ...</td>\n      <td>My Condolences to the Family of those who did ...</td>\n      <td>en</td>\n      <td>0.0</td>\n      <td>13869.0</td>\n      <td>bucketeconomist</td>\n      <td>Covid_19</td>\n      <td>NaN</td>\n      <td>NaN</td>\n      <td>condol famili surviv</td>\n      <td>0.0000</td>\n      <td>0.000</td>\n      <td>1.000</td>\n      <td>0.000</td>\n      <td>neu</td>\n    </tr>\n    <tr>\n      <th>...</th>\n      <td>...</td>\n      <td>...</td>\n      <td>...</td>\n      <td>...</td>\n      <td>...</td>\n      <td>...</td>\n      <td>...</td>\n      <td>...</td>\n      <td>...</td>\n      <td>...</td>\n      <td>...</td>\n      <td>...</td>\n      <td>...</td>\n      <td>...</td>\n      <td>...</td>\n      <td>...</td>\n      <td>...</td>\n    </tr>\n    <tr>\n      <th>120504</th>\n      <td>1.320000e+18</td>\n      <td>2020-10-20</td>\n      <td>&lt;a href=\"https://about.twitter.com/products/tw...</td>\n      <td>RT @Reuters: Exclusive: AstraZeneca U.S. COVID...</td>\n      <td>en</td>\n      <td>0.0</td>\n      <td>51.0</td>\n      <td>Sabahatjahan28</td>\n      <td>NaN</td>\n      <td>Reuters</td>\n      <td>India</td>\n      <td>exclus astrazeneca covid19 vaccin trial may re...</td>\n      <td>0.0000</td>\n      <td>0.000</td>\n      <td>1.000</td>\n      <td>0.000</td>\n      <td>neu</td>\n    </tr>\n    <tr>\n      <th>120505</th>\n      <td>1.320000e+18</td>\n      <td>2020-10-20</td>\n      <td>&lt;a href=\"http://twitter.com/#!/download/ipad\" ...</td>\n      <td>RT @AndrewTSaks: 5,000+ workers from 130+ coun...</td>\n      <td>en</td>\n      <td>0.0</td>\n      <td>36.0</td>\n      <td>jefwintermans</td>\n      <td>NaN</td>\n      <td>AndrewTSaks</td>\n      <td>Den Haag, Nederland</td>\n      <td>worker countri sign petit reinstat worker mass...</td>\n      <td>-0.3400</td>\n      <td>0.211</td>\n      <td>0.789</td>\n      <td>0.000</td>\n      <td>neg</td>\n    </tr>\n    <tr>\n      <th>120506</th>\n      <td>1.320000e+18</td>\n      <td>2020-10-20</td>\n      <td>&lt;a href=\"https://mobile.twitter.com\" rel=\"nofo...</td>\n      <td>Culture of China-Brilliance of Huaxing\\nCelebr...</td>\n      <td>en</td>\n      <td>0.0</td>\n      <td>9.0</td>\n      <td>ChinaEmbOttawa</td>\n      <td>NaN</td>\n      <td>NaN</td>\n      <td>515 St. Patrick Street, Ottawa</td>\n      <td>cultur china brillianc huax celebr th annivers...</td>\n      <td>-0.3818</td>\n      <td>0.191</td>\n      <td>0.809</td>\n      <td>0.000</td>\n      <td>neg</td>\n    </tr>\n    <tr>\n      <th>120507</th>\n      <td>1.320000e+18</td>\n      <td>2020-10-20</td>\n      <td>&lt;a href=\"https://mobile.twitter.com\" rel=\"nofo...</td>\n      <td>Trump called CNN 'bastards' for covering Covid...</td>\n      <td>en</td>\n      <td>0.0</td>\n      <td>31451.0</td>\n      <td>maetsfollufdaeh</td>\n      <td>NaN</td>\n      <td>NaN</td>\n      <td>NaN</td>\n      <td>trump call cnn bastard cover covid19 hear keil...</td>\n      <td>-0.5423</td>\n      <td>0.304</td>\n      <td>0.696</td>\n      <td>0.000</td>\n      <td>neg</td>\n    </tr>\n    <tr>\n      <th>120508</th>\n      <td>1.320000e+18</td>\n      <td>2020-10-20</td>\n      <td>&lt;a href=\"http://twitter.com/download/iphone\" r...</td>\n      <td>Trump called CNN 'bastards' for covering Covid...</td>\n      <td>en</td>\n      <td>0.0</td>\n      <td>28442.0</td>\n      <td>rab2510</td>\n      <td>NaN</td>\n      <td>YouTube</td>\n      <td>Northern Ireland</td>\n      <td>trump call cnn bastard cover covid19 hear keil...</td>\n      <td>-0.5423</td>\n      <td>0.280</td>\n      <td>0.720</td>\n      <td>0.000</td>\n      <td>neg</td>\n    </tr>\n  </tbody>\n</table>\n<p>411887 rows × 17 columns</p>\n</div>"
     },
     "execution_count": 9,
     "metadata": {},
     "output_type": "execute_result"
    }
   ],
   "source": [
    "first_part = pd.read_csv('Data/Covid-19 Twitter Dataset (Apr-Jun 2020).csv')\n",
    "second_part = pd.read_csv('Data/Covid-19 Twitter Dataset (Apr-Jun 2021).csv')\n",
    "third_part = pd.read_csv('Data/Covid-19 Twitter Dataset (Aug-Sep 2020).csv')\n",
    "\n",
    "\n",
    "data = pd.concat([first_part, second_part, third_part])"
   ],
   "metadata": {
    "collapsed": false,
    "pycharm": {
     "name": "#%%\n"
    }
   }
  }
 ],
 "metadata": {
  "kernelspec": {
   "display_name": "Python 3",
   "language": "python",
   "name": "python3"
  },
  "language_info": {
   "codemirror_mode": {
    "name": "ipython",
    "version": 2
   },
   "file_extension": ".py",
   "mimetype": "text/x-python",
   "name": "python",
   "nbconvert_exporter": "python",
   "pygments_lexer": "ipython2",
   "version": "2.7.6"
  }
 },
 "nbformat": 4,
 "nbformat_minor": 0
}