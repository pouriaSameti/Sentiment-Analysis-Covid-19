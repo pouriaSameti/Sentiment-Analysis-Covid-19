{
 "cells": [
  {
   "cell_type": "code",
   "execution_count": 73,
   "outputs": [],
   "source": [
    "import numpy as np\n",
    "import pandas as pd"
   ],
   "metadata": {
    "collapsed": false,
    "pycharm": {
     "name": "#%%\n"
    }
   }
  },
  {
   "cell_type": "code",
   "execution_count": 74,
   "outputs": [],
   "source": [
    "first_part = pd.read_csv('Data/Covid-19 Twitter Dataset (Apr-Jun 2020).csv')\n",
    "second_part = pd.read_csv('Data/Covid-19 Twitter Dataset (Apr-Jun 2021).csv')\n",
    "third_part = pd.read_csv('Data/Covid-19 Twitter Dataset (Aug-Sep 2020).csv')\n",
    "\n",
    "\n",
    "data = pd.concat([first_part, second_part, third_part])"
   ],
   "metadata": {
    "collapsed": false,
    "pycharm": {
     "name": "#%%\n"
    }
   }
  },
  {
   "cell_type": "code",
   "execution_count": 75,
   "outputs": [
    {
     "data": {
      "text/plain": "        hashtags                                        clean_tweet\n0            NaN  call leader help protect refuge covid19 provid...\n1            NaN  ogun state support cbn nirsal covid19 target c...\n2            NaN  polic offici base namahadi polic station busi ...\n3            NaN                   covid19 oyo discharg two patient\n4       Covid_19                               condol famili surviv\n...          ...                                                ...\n120504       NaN  exclus astrazeneca covid19 vaccin trial may re...\n120505       NaN  worker countri sign petit reinstat worker mass...\n120506       NaN  cultur china brillianc huax celebr th annivers...\n120507       NaN  trump call cnn bastard cover covid19 hear keil...\n120508       NaN  trump call cnn bastard cover covid19 hear keil...\n\n[411887 rows x 2 columns]",
      "text/html": "<div>\n<style scoped>\n    .dataframe tbody tr th:only-of-type {\n        vertical-align: middle;\n    }\n\n    .dataframe tbody tr th {\n        vertical-align: top;\n    }\n\n    .dataframe thead th {\n        text-align: right;\n    }\n</style>\n<table border=\"1\" class=\"dataframe\">\n  <thead>\n    <tr style=\"text-align: right;\">\n      <th></th>\n      <th>hashtags</th>\n      <th>clean_tweet</th>\n    </tr>\n  </thead>\n  <tbody>\n    <tr>\n      <th>0</th>\n      <td>NaN</td>\n      <td>call leader help protect refuge covid19 provid...</td>\n    </tr>\n    <tr>\n      <th>1</th>\n      <td>NaN</td>\n      <td>ogun state support cbn nirsal covid19 target c...</td>\n    </tr>\n    <tr>\n      <th>2</th>\n      <td>NaN</td>\n      <td>polic offici base namahadi polic station busi ...</td>\n    </tr>\n    <tr>\n      <th>3</th>\n      <td>NaN</td>\n      <td>covid19 oyo discharg two patient</td>\n    </tr>\n    <tr>\n      <th>4</th>\n      <td>Covid_19</td>\n      <td>condol famili surviv</td>\n    </tr>\n    <tr>\n      <th>...</th>\n      <td>...</td>\n      <td>...</td>\n    </tr>\n    <tr>\n      <th>120504</th>\n      <td>NaN</td>\n      <td>exclus astrazeneca covid19 vaccin trial may re...</td>\n    </tr>\n    <tr>\n      <th>120505</th>\n      <td>NaN</td>\n      <td>worker countri sign petit reinstat worker mass...</td>\n    </tr>\n    <tr>\n      <th>120506</th>\n      <td>NaN</td>\n      <td>cultur china brillianc huax celebr th annivers...</td>\n    </tr>\n    <tr>\n      <th>120507</th>\n      <td>NaN</td>\n      <td>trump call cnn bastard cover covid19 hear keil...</td>\n    </tr>\n    <tr>\n      <th>120508</th>\n      <td>NaN</td>\n      <td>trump call cnn bastard cover covid19 hear keil...</td>\n    </tr>\n  </tbody>\n</table>\n<p>411887 rows × 2 columns</p>\n</div>"
     },
     "execution_count": 75,
     "metadata": {},
     "output_type": "execute_result"
    }
   ],
   "source": [
    "#filtering Data\n",
    "data_filtered = data.drop(columns=['id', 'created_at', 'source', 'user_mentions', 'lang', 'place', 'original_text',\n",
    "                                   'favorite_count', 'retweet_count', 'original_author', 'compound', 'neg', 'neu', 'pos', 'sentiment'])\n",
    "data_filtered"
   ],
   "metadata": {
    "collapsed": false,
    "pycharm": {
     "name": "#%%\n"
    }
   }
  },
  {
   "cell_type": "code",
   "execution_count": 76,
   "outputs": [],
   "source": [
    "#preparing Data\n",
    "\n",
    "def concat_tweet_hashtag(record):\n",
    "    if  type(record['hashtags']) is str:\n",
    "        return str(str(record['clean_tweet']) + ' ' + str(record['hashtags']))\n",
    "    return str(record['clean_tweet'])\n",
    "\n",
    "data_filtered['tweet_hashtag'] = data_filtered.apply(concat_tweet_hashtag, axis=1)\n",
    "data_filtered = data_filtered.drop(columns=['clean_tweet', 'hashtags'])\n",
    "df = data_filtered"
   ],
   "metadata": {
    "collapsed": false,
    "pycharm": {
     "name": "#%%\n"
    }
   }
  },
  {
   "cell_type": "code",
   "execution_count": 77,
   "outputs": [
    {
     "data": {
      "text/plain": "                                            tweet_hashtag\n0       call leader help protect refuge  provid qualit...\n1       ogun state support cbn nirsal  target credit f...\n2       polic offici base namahadi polic station busi ...\n3                                oyo discharg two patient\n4                                   condol famili surviv \n...                                                   ...\n120504  exclus astrazeneca  vaccin trial may resum soo...\n120505  worker countri sign petit reinstat worker mass...\n120506  cultur china brillianc huax celebr th annivers...\n120507  trump call cnn bastard cover  hear keilar respons\n120508  trump call cnn bastard cover  hear keilar resp...\n\n[411887 rows x 1 columns]",
      "text/html": "<div>\n<style scoped>\n    .dataframe tbody tr th:only-of-type {\n        vertical-align: middle;\n    }\n\n    .dataframe tbody tr th {\n        vertical-align: top;\n    }\n\n    .dataframe thead th {\n        text-align: right;\n    }\n</style>\n<table border=\"1\" class=\"dataframe\">\n  <thead>\n    <tr style=\"text-align: right;\">\n      <th></th>\n      <th>tweet_hashtag</th>\n    </tr>\n  </thead>\n  <tbody>\n    <tr>\n      <th>0</th>\n      <td>call leader help protect refuge  provid qualit...</td>\n    </tr>\n    <tr>\n      <th>1</th>\n      <td>ogun state support cbn nirsal  target credit f...</td>\n    </tr>\n    <tr>\n      <th>2</th>\n      <td>polic offici base namahadi polic station busi ...</td>\n    </tr>\n    <tr>\n      <th>3</th>\n      <td>oyo discharg two patient</td>\n    </tr>\n    <tr>\n      <th>4</th>\n      <td>condol famili surviv</td>\n    </tr>\n    <tr>\n      <th>...</th>\n      <td>...</td>\n    </tr>\n    <tr>\n      <th>120504</th>\n      <td>exclus astrazeneca  vaccin trial may resum soo...</td>\n    </tr>\n    <tr>\n      <th>120505</th>\n      <td>worker countri sign petit reinstat worker mass...</td>\n    </tr>\n    <tr>\n      <th>120506</th>\n      <td>cultur china brillianc huax celebr th annivers...</td>\n    </tr>\n    <tr>\n      <th>120507</th>\n      <td>trump call cnn bastard cover  hear keilar respons</td>\n    </tr>\n    <tr>\n      <th>120508</th>\n      <td>trump call cnn bastard cover  hear keilar resp...</td>\n    </tr>\n  </tbody>\n</table>\n<p>411887 rows × 1 columns</p>\n</div>"
     },
     "execution_count": 77,
     "metadata": {},
     "output_type": "execute_result"
    }
   ],
   "source": [
    "#cleaning data\n",
    "import re\n",
    "import string\n",
    "\n",
    "def clean_text(text):\n",
    "    text = text.lower()\n",
    "    text = re.sub('\\[.*?\\]', '', text)\n",
    "    text = re.sub('https?://\\S+|www\\.\\S+', '', text)\n",
    "    text = re.sub('<.*?>+', '', text)\n",
    "    text = re.sub('[%s]' % re.escape(string.punctuation), '', text)\n",
    "    text = re.sub('\\n', '', text)\n",
    "    text = re.sub('\\w*\\d\\w*', '', text)\n",
    "    return text\n",
    "\n",
    "df['tweet_hashtag'] = df['tweet_hashtag'].apply(clean_text)\n",
    "df"
   ],
   "metadata": {
    "collapsed": false,
    "pycharm": {
     "name": "#%%\n"
    }
   }
  },
  {
   "cell_type": "code",
   "execution_count": 78,
   "outputs": [
    {
     "data": {
      "text/plain": "                                            tweet_hashtag\n0       [call, leader, help, protect, refuge, provid, ...\n1       [ogun, state, support, cbn, nirsal, target, cr...\n2       [polic, offici, base, namahadi, polic, station...\n3                           [oyo, discharg, two, patient]\n4                                [condol, famili, surviv]\n...                                                   ...\n120504  [exclus, astrazeneca, vaccin, trial, may, resu...\n120505  [worker, countri, sign, petit, reinstat, worke...\n120506  [cultur, china, brillianc, huax, celebr, th, a...\n120507  [trump, call, cnn, bastard, cover, hear, keila...\n120508  [trump, call, cnn, bastard, cover, hear, keila...\n\n[411887 rows x 1 columns]",
      "text/html": "<div>\n<style scoped>\n    .dataframe tbody tr th:only-of-type {\n        vertical-align: middle;\n    }\n\n    .dataframe tbody tr th {\n        vertical-align: top;\n    }\n\n    .dataframe thead th {\n        text-align: right;\n    }\n</style>\n<table border=\"1\" class=\"dataframe\">\n  <thead>\n    <tr style=\"text-align: right;\">\n      <th></th>\n      <th>tweet_hashtag</th>\n    </tr>\n  </thead>\n  <tbody>\n    <tr>\n      <th>0</th>\n      <td>[call, leader, help, protect, refuge, provid, ...</td>\n    </tr>\n    <tr>\n      <th>1</th>\n      <td>[ogun, state, support, cbn, nirsal, target, cr...</td>\n    </tr>\n    <tr>\n      <th>2</th>\n      <td>[polic, offici, base, namahadi, polic, station...</td>\n    </tr>\n    <tr>\n      <th>3</th>\n      <td>[oyo, discharg, two, patient]</td>\n    </tr>\n    <tr>\n      <th>4</th>\n      <td>[condol, famili, surviv]</td>\n    </tr>\n    <tr>\n      <th>...</th>\n      <td>...</td>\n    </tr>\n    <tr>\n      <th>120504</th>\n      <td>[exclus, astrazeneca, vaccin, trial, may, resu...</td>\n    </tr>\n    <tr>\n      <th>120505</th>\n      <td>[worker, countri, sign, petit, reinstat, worke...</td>\n    </tr>\n    <tr>\n      <th>120506</th>\n      <td>[cultur, china, brillianc, huax, celebr, th, a...</td>\n    </tr>\n    <tr>\n      <th>120507</th>\n      <td>[trump, call, cnn, bastard, cover, hear, keila...</td>\n    </tr>\n    <tr>\n      <th>120508</th>\n      <td>[trump, call, cnn, bastard, cover, hear, keila...</td>\n    </tr>\n  </tbody>\n</table>\n<p>411887 rows × 1 columns</p>\n</div>"
     },
     "execution_count": 78,
     "metadata": {},
     "output_type": "execute_result"
    }
   ],
   "source": [
    "# Tokenizing\n",
    "import nltk\n",
    "\n",
    "tokenizer = nltk.tokenize.RegexpTokenizer(r'\\w+')\n",
    "df['tweet_hashtag'] = df['tweet_hashtag'].apply(lambda x: tokenizer.tokenize(x))\n",
    "df"
   ],
   "metadata": {
    "collapsed": false,
    "pycharm": {
     "name": "#%%\n"
    }
   }
  },
  {
   "cell_type": "code",
   "execution_count": 80,
   "outputs": [
    {
     "data": {
      "text/plain": "                                            tweet_hashtag\n0       [call, leader, help, protect, refuge, provid, ...\n1       [ogun, state, support, cbn, nirsal, target, cr...\n2       [polic, offici, base, namahadi, polic, station...\n3                           [oyo, discharg, two, patient]\n4                                [condol, famili, surviv]\n...                                                   ...\n120504  [exclus, astrazeneca, vaccin, trial, may, resu...\n120505  [worker, countri, sign, petit, reinstat, worke...\n120506  [cultur, china, brillianc, huax, celebr, th, a...\n120507  [trump, call, cnn, bastard, cover, hear, keila...\n120508  [trump, call, cnn, bastard, cover, hear, keila...\n\n[411887 rows x 1 columns]",
      "text/html": "<div>\n<style scoped>\n    .dataframe tbody tr th:only-of-type {\n        vertical-align: middle;\n    }\n\n    .dataframe tbody tr th {\n        vertical-align: top;\n    }\n\n    .dataframe thead th {\n        text-align: right;\n    }\n</style>\n<table border=\"1\" class=\"dataframe\">\n  <thead>\n    <tr style=\"text-align: right;\">\n      <th></th>\n      <th>tweet_hashtag</th>\n    </tr>\n  </thead>\n  <tbody>\n    <tr>\n      <th>0</th>\n      <td>[call, leader, help, protect, refuge, provid, ...</td>\n    </tr>\n    <tr>\n      <th>1</th>\n      <td>[ogun, state, support, cbn, nirsal, target, cr...</td>\n    </tr>\n    <tr>\n      <th>2</th>\n      <td>[polic, offici, base, namahadi, polic, station...</td>\n    </tr>\n    <tr>\n      <th>3</th>\n      <td>[oyo, discharg, two, patient]</td>\n    </tr>\n    <tr>\n      <th>4</th>\n      <td>[condol, famili, surviv]</td>\n    </tr>\n    <tr>\n      <th>...</th>\n      <td>...</td>\n    </tr>\n    <tr>\n      <th>120504</th>\n      <td>[exclus, astrazeneca, vaccin, trial, may, resu...</td>\n    </tr>\n    <tr>\n      <th>120505</th>\n      <td>[worker, countri, sign, petit, reinstat, worke...</td>\n    </tr>\n    <tr>\n      <th>120506</th>\n      <td>[cultur, china, brillianc, huax, celebr, th, a...</td>\n    </tr>\n    <tr>\n      <th>120507</th>\n      <td>[trump, call, cnn, bastard, cover, hear, keila...</td>\n    </tr>\n    <tr>\n      <th>120508</th>\n      <td>[trump, call, cnn, bastard, cover, hear, keila...</td>\n    </tr>\n  </tbody>\n</table>\n<p>411887 rows × 1 columns</p>\n</div>"
     },
     "execution_count": 80,
     "metadata": {},
     "output_type": "execute_result"
    }
   ],
   "source": [
    "# stopwords removal\n",
    "from nltk.corpus import stopwords\n",
    "\n",
    "def remove_stopwords(text):\n",
    "    stop_words = list(set(stopwords.words('english')))\n",
    "    words = [w for w in text if w not in stop_words]\n",
    "    return words\n",
    "df['tweet_hashtag'] = df.apply(remove_stopwords)\n",
    "df"
   ],
   "metadata": {
    "collapsed": false,
    "pycharm": {
     "name": "#%%\n"
    }
   }
  },
  {
   "cell_type": "code",
   "execution_count": 82,
   "outputs": [
    {
     "data": {
      "text/plain": "                                            tweet_hashtag\n0       call leader help protect refuge provid qualiti...\n1       ogun state support cbn nirsal target credit fa...\n2       polic offici base namahadi polic station busi ...\n3                                oyo discharg two patient\n4                                    condol famili surviv\n...                                                   ...\n120504  exclus astrazeneca vaccin trial may resum soon...\n120505  worker countri sign petit reinstat worker mass...\n120506  cultur china brillianc huax celebr th annivers...\n120507   trump call cnn bastard cover hear keilar respons\n120508  trump call cnn bastard cover hear keilar respo...\n\n[411887 rows x 1 columns]",
      "text/html": "<div>\n<style scoped>\n    .dataframe tbody tr th:only-of-type {\n        vertical-align: middle;\n    }\n\n    .dataframe tbody tr th {\n        vertical-align: top;\n    }\n\n    .dataframe thead th {\n        text-align: right;\n    }\n</style>\n<table border=\"1\" class=\"dataframe\">\n  <thead>\n    <tr style=\"text-align: right;\">\n      <th></th>\n      <th>tweet_hashtag</th>\n    </tr>\n  </thead>\n  <tbody>\n    <tr>\n      <th>0</th>\n      <td>call leader help protect refuge provid qualiti...</td>\n    </tr>\n    <tr>\n      <th>1</th>\n      <td>ogun state support cbn nirsal target credit fa...</td>\n    </tr>\n    <tr>\n      <th>2</th>\n      <td>polic offici base namahadi polic station busi ...</td>\n    </tr>\n    <tr>\n      <th>3</th>\n      <td>oyo discharg two patient</td>\n    </tr>\n    <tr>\n      <th>4</th>\n      <td>condol famili surviv</td>\n    </tr>\n    <tr>\n      <th>...</th>\n      <td>...</td>\n    </tr>\n    <tr>\n      <th>120504</th>\n      <td>exclus astrazeneca vaccin trial may resum soon...</td>\n    </tr>\n    <tr>\n      <th>120505</th>\n      <td>worker countri sign petit reinstat worker mass...</td>\n    </tr>\n    <tr>\n      <th>120506</th>\n      <td>cultur china brillianc huax celebr th annivers...</td>\n    </tr>\n    <tr>\n      <th>120507</th>\n      <td>trump call cnn bastard cover hear keilar respons</td>\n    </tr>\n    <tr>\n      <th>120508</th>\n      <td>trump call cnn bastard cover hear keilar respo...</td>\n    </tr>\n  </tbody>\n</table>\n<p>411887 rows × 1 columns</p>\n</div>"
     },
     "execution_count": 82,
     "metadata": {},
     "output_type": "execute_result"
    }
   ],
   "source": [
    "# combining texts\n",
    "\n",
    "def combine_text(list_of_text):\n",
    "    combined_text = ' '.join(list_of_text)\n",
    "    return combined_text\n",
    "\n",
    "df['tweet_hashtag'] = df['tweet_hashtag'].apply(lambda x: combine_text(x))\n",
    "df"
   ],
   "metadata": {
    "collapsed": false,
    "pycharm": {
     "name": "#%%\n"
    }
   }
  },
  {
   "cell_type": "code",
   "execution_count": null,
   "outputs": [],
   "source": [],
   "metadata": {
    "collapsed": false,
    "pycharm": {
     "name": "#%%\n"
    }
   }
  }
 ],
 "metadata": {
  "kernelspec": {
   "display_name": "Python 3",
   "language": "python",
   "name": "python3"
  },
  "language_info": {
   "codemirror_mode": {
    "name": "ipython",
    "version": 2
   },
   "file_extension": ".py",
   "mimetype": "text/x-python",
   "name": "python",
   "nbconvert_exporter": "python",
   "pygments_lexer": "ipython2",
   "version": "2.7.6"
  }
 },
 "nbformat": 4,
 "nbformat_minor": 0
}