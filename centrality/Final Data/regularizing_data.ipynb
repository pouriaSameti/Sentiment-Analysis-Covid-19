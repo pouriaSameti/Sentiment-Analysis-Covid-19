{
 "cells": [
  {
   "cell_type": "code",
   "execution_count": 33,
   "outputs": [],
   "source": [
    "import pandas as pd\n",
    "import numpy as np"
   ],
   "metadata": {
    "collapsed": false,
    "pycharm": {
     "name": "#%%\n"
    }
   }
  },
  {
   "cell_type": "code",
   "execution_count": 34,
   "outputs": [],
   "source": [
    "#regularizing closeness\n",
    "# data = pd.read_csv('../data/closeness.csv', index_col=False, header=None)\n",
    "# data.columns = ['user_id', 'closeness']\n",
    "# data.to_csv('closeness.csv')\n",
    "#\n",
    "# data"
   ],
   "metadata": {
    "collapsed": false,
    "pycharm": {
     "name": "#%%\n"
    }
   }
  },
  {
   "cell_type": "code",
   "execution_count": 35,
   "outputs": [],
   "source": [
    "#regularizing betweenness\n",
    "# data2 = pd.read_csv('../data/../data/betweenness.csv', index_col=False, header=None)\n",
    "# data2.columns = ['user_id', 'betweenness']\n",
    "# data2.to_csv('betweenness.csv')\n",
    "#\n",
    "# data2"
   ],
   "metadata": {
    "collapsed": false,
    "pycharm": {
     "name": "#%%\n"
    }
   }
  },
  {
   "cell_type": "code",
   "execution_count": 36,
   "outputs": [
    {
     "data": {
      "text/plain": "   Frequency  hour\n0         81   1AM\n1         72  21PM\n2         65  20PM\n3         58   0AM\n4         56  17PM",
      "text/html": "<div>\n<style scoped>\n    .dataframe tbody tr th:only-of-type {\n        vertical-align: middle;\n    }\n\n    .dataframe tbody tr th {\n        vertical-align: top;\n    }\n\n    .dataframe thead th {\n        text-align: right;\n    }\n</style>\n<table border=\"1\" class=\"dataframe\">\n  <thead>\n    <tr style=\"text-align: right;\">\n      <th></th>\n      <th>Frequency</th>\n      <th>hour</th>\n    </tr>\n  </thead>\n  <tbody>\n    <tr>\n      <th>0</th>\n      <td>81</td>\n      <td>1AM</td>\n    </tr>\n    <tr>\n      <th>1</th>\n      <td>72</td>\n      <td>21PM</td>\n    </tr>\n    <tr>\n      <th>2</th>\n      <td>65</td>\n      <td>20PM</td>\n    </tr>\n    <tr>\n      <th>3</th>\n      <td>58</td>\n      <td>0AM</td>\n    </tr>\n    <tr>\n      <th>4</th>\n      <td>56</td>\n      <td>17PM</td>\n    </tr>\n  </tbody>\n</table>\n</div>"
     },
     "execution_count": 36,
     "metadata": {},
     "output_type": "execute_result"
    }
   ],
   "source": [
    "data3 = pd.read_csv('../data//high_traffic_hours.csv')\n",
    "data3['hour'] = data3.apply(lambda x: str(x['Hour']) + str(x['PM/AM']), axis=1)\n",
    "data3 = data3.drop(columns=['PM/AM', 'Hour'])\n",
    "data3.to_csv('high traffic hours.csv')\n",
    "data3"
   ],
   "metadata": {
    "collapsed": false,
    "pycharm": {
     "name": "#%%\n"
    }
   }
  }
 ],
 "metadata": {
  "kernelspec": {
   "display_name": "Python 3",
   "language": "python",
   "name": "python3"
  },
  "language_info": {
   "codemirror_mode": {
    "name": "ipython",
    "version": 2
   },
   "file_extension": ".py",
   "mimetype": "text/x-python",
   "name": "python",
   "nbconvert_exporter": "python",
   "pygments_lexer": "ipython2",
   "version": "2.7.6"
  }
 },
 "nbformat": 4,
 "nbformat_minor": 0
}