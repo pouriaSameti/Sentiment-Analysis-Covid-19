{
 "cells": [
  {
   "cell_type": "code",
   "execution_count": 1,
   "outputs": [],
   "source": [
    "import pandas as pd\n",
    "import numpy as np"
   ],
   "metadata": {
    "collapsed": false,
    "pycharm": {
     "name": "#%%\n"
    }
   }
  },
  {
   "cell_type": "code",
   "execution_count": 8,
   "outputs": [
    {
     "data": {
      "text/plain": "          user_id  closeness\n0       629551377   0.242167\n1       327848576   0.194957\n2       451749606   0.194957\n3       434387169   0.194957\n4      1132922689   0.194957\n...           ...        ...\n18933  2856142558   0.240561\n18934  4253942961   0.240561\n18935    56631494   0.240561\n18936  4837566766   0.240561\n18937   259836274   0.240561\n\n[18938 rows x 2 columns]",
      "text/html": "<div>\n<style scoped>\n    .dataframe tbody tr th:only-of-type {\n        vertical-align: middle;\n    }\n\n    .dataframe tbody tr th {\n        vertical-align: top;\n    }\n\n    .dataframe thead th {\n        text-align: right;\n    }\n</style>\n<table border=\"1\" class=\"dataframe\">\n  <thead>\n    <tr style=\"text-align: right;\">\n      <th></th>\n      <th>user_id</th>\n      <th>closeness</th>\n    </tr>\n  </thead>\n  <tbody>\n    <tr>\n      <th>0</th>\n      <td>629551377</td>\n      <td>0.242167</td>\n    </tr>\n    <tr>\n      <th>1</th>\n      <td>327848576</td>\n      <td>0.194957</td>\n    </tr>\n    <tr>\n      <th>2</th>\n      <td>451749606</td>\n      <td>0.194957</td>\n    </tr>\n    <tr>\n      <th>3</th>\n      <td>434387169</td>\n      <td>0.194957</td>\n    </tr>\n    <tr>\n      <th>4</th>\n      <td>1132922689</td>\n      <td>0.194957</td>\n    </tr>\n    <tr>\n      <th>...</th>\n      <td>...</td>\n      <td>...</td>\n    </tr>\n    <tr>\n      <th>18933</th>\n      <td>2856142558</td>\n      <td>0.240561</td>\n    </tr>\n    <tr>\n      <th>18934</th>\n      <td>4253942961</td>\n      <td>0.240561</td>\n    </tr>\n    <tr>\n      <th>18935</th>\n      <td>56631494</td>\n      <td>0.240561</td>\n    </tr>\n    <tr>\n      <th>18936</th>\n      <td>4837566766</td>\n      <td>0.240561</td>\n    </tr>\n    <tr>\n      <th>18937</th>\n      <td>259836274</td>\n      <td>0.240561</td>\n    </tr>\n  </tbody>\n</table>\n<p>18938 rows × 2 columns</p>\n</div>"
     },
     "execution_count": 8,
     "metadata": {},
     "output_type": "execute_result"
    }
   ],
   "source": [
    "#regularizing closeness\n",
    "data = pd.read_csv('../data/closeness.csv', index_col=False, header=None)\n",
    "data.columns = ['user_id', 'closeness']\n",
    "data.to_csv('closeness.csv')\n",
    "\n",
    "data"
   ],
   "metadata": {
    "collapsed": false,
    "pycharm": {
     "name": "#%%\n"
    }
   }
  },
  {
   "cell_type": "code",
   "execution_count": null,
   "outputs": [],
   "source": [],
   "metadata": {
    "collapsed": false,
    "pycharm": {
     "name": "#%%\n"
    }
   }
  }
 ],
 "metadata": {
  "kernelspec": {
   "display_name": "Python 3",
   "language": "python",
   "name": "python3"
  },
  "language_info": {
   "codemirror_mode": {
    "name": "ipython",
    "version": 2
   },
   "file_extension": ".py",
   "mimetype": "text/x-python",
   "name": "python",
   "nbconvert_exporter": "python",
   "pygments_lexer": "ipython2",
   "version": "2.7.6"
  }
 },
 "nbformat": 4,
 "nbformat_minor": 0
}