{
 "cells": [
  {
   "cell_type": "code",
   "execution_count": 1,
   "outputs": [],
   "source": [
    "import pandas as pd\n",
    "import numpy as np"
   ],
   "metadata": {
    "collapsed": false,
    "pycharm": {
     "name": "#%%\n"
    }
   }
  },
  {
   "cell_type": "code",
   "execution_count": 2,
   "outputs": [],
   "source": [
    "#regularizing closeness\n",
    "# data = pd.read_csv('../data/closeness.csv', index_col=False, header=None)\n",
    "# data.columns = ['user_id', 'closeness']\n",
    "# data.to_csv('closeness.csv')\n",
    "#\n",
    "# data"
   ],
   "metadata": {
    "collapsed": false,
    "pycharm": {
     "name": "#%%\n"
    }
   }
  },
  {
   "cell_type": "code",
   "execution_count": 3,
   "outputs": [],
   "source": [
    "#regularizing betweenness\n",
    "# data2 = pd.read_csv('../data/../data/betweenness.csv', index_col=False, header=None)\n",
    "# data2.columns = ['user_id', 'betweenness']\n",
    "# data2.to_csv('betweenness.csv')\n",
    "#\n",
    "# data2"
   ],
   "metadata": {
    "collapsed": false,
    "pycharm": {
     "name": "#%%\n"
    }
   }
  },
  {
   "cell_type": "code",
   "execution_count": 4,
   "outputs": [],
   "source": [
    "# data3 = pd.read_csv('../data//high_traffic_hours.csv')\n",
    "# data3['hour'] = data3.apply(lambda x: str(x['Hour']) + str(x['PM/AM']), axis=1)\n",
    "# data3 = data3.drop(columns=['PM/AM', 'Hour'])\n",
    "# data3.to_csv('high traffic hours.csv')\n",
    "# data3"
   ],
   "metadata": {
    "collapsed": false,
    "pycharm": {
     "name": "#%%\n"
    }
   }
  },
  {
   "cell_type": "code",
   "execution_count": 5,
   "outputs": [],
   "source": [
    "data4 = pd.read_csv(\"../data/day_content.csv\", index_col=False)\n",
    "data4['date'] = data4.apply(lambda x:str(x['day']), axis=1)\n",
    "data4 = data4.drop(columns=['Unnamed: 0', 'day'])\n",
    "data4.to_csv('day_content.csv')"
   ],
   "metadata": {
    "collapsed": false,
    "pycharm": {
     "name": "#%%\n"
    }
   }
  },
  {
   "cell_type": "code",
   "execution_count": 12,
   "outputs": [
    {
     "data": {
      "text/plain": "<AxesSubplot:xlabel='date', ylabel='count'>"
     },
     "execution_count": 12,
     "metadata": {},
     "output_type": "execute_result"
    },
    {
     "data": {
      "text/plain": "<Figure size 432x288 with 1 Axes>",
      "image/png": "[encoded data removed]"
     },
     "metadata": {
      "needs_background": "light"
     },
     "output_type": "display_data"
    }
   ],
   "source": [
    "import seaborn as sns\n",
    "sns.lineplot(x=data4['date'], y=data4['count'], )"
   ],
   "metadata": {
    "collapsed": false,
    "pycharm": {
     "name": "#%%\n"
    }
   }
  },
  {
   "cell_type": "code",
   "execution_count": null,
   "outputs": [],
   "source": [],
   "metadata": {
    "collapsed": false,
    "pycharm": {
     "name": "#%%\n"
    }
   }
  }
 ],
 "metadata": {
  "kernelspec": {
   "display_name": "Python 3",
   "language": "python",
   "name": "python3"
  },
  "language_info": {
   "codemirror_mode": {
    "name": "ipython",
    "version": 2
   },
   "file_extension": ".py",
   "mimetype": "text/x-python",
   "name": "python",
   "nbconvert_exporter": "python",
   "pygments_lexer": "ipython2",
   "version": "2.7.6"
  }
 },
 "nbformat": 4,
 "nbformat_minor": 0
}