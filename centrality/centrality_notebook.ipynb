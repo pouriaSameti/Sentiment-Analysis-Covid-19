{
 "cells": [
  {
   "cell_type": "code",
   "execution_count": 1,
   "metadata": {
    "collapsed": false,
    "pycharm": {
     "name": "#%%\n"
    }
   },
   "outputs": [],
   "source": [
    "import networkx\n",
    "import matplotlib.pyplot as plt\n",
    "import pandas as pd\n",
    "import csv\n",
    "import re\n",
    "import json\n",
    "from ntscraper import Nitter"
   ]
  },
  {
   "cell_type": "code",
   "execution_count": null,
   "metadata": {
    "collapsed": false,
    "pycharm": {
     "name": "#%%\n"
    }
   },
   "outputs": [],
   "source": [
    "def read_csv_file(file_path, num_rows):\n",
    "\n",
    "    # df = pd.read_csv(file_path)\n",
    "    # print(df)\n",
    "    with open(file_path, 'r', newline='') as csvfile:\n",
    "\n",
    "        reader = csv.reader(csvfile)\n",
    "\n",
    "        # Skip the header if it exists\n",
    "        header = next(reader, None)\n",
    "\n",
    "        # Read the specified number of rows\n",
    "        rows = [next(reader) for _ in range(num_rows)]\n",
    "\n",
    "    return header, rows"
   ]
  },
  {
   "cell_type": "code",
   "execution_count": null,
   "metadata": {},
   "outputs": [],
   "source": [
    "def find_all_freiend(rows):\n",
    "    table_friends = []\n",
    "    for row in rows:\n",
    "        list_friends = row[9:]\n",
    "        table_friends.append(list_friends)\n",
    "\n",
    "    table_friends_int = []\n",
    "    for list_friends in table_friends:\n",
    "        list_friends_int = []\n",
    "        for friends in list_friends:\n",
    "            pattern = re.compile(r'\\b\\d+\\b')\n",
    "\n",
    "            # Find all matches in the input string\n",
    "            matches = pattern.findall(friends)\n",
    "\n",
    "            # Convert the matched strings to integers\n",
    "            number = [int(match) for match in matches]\n",
    "            if not number:\n",
    "                number = -1\n",
    "            else:\n",
    "                number = number[0]\n",
    "            list_friends_int.append(number)\n",
    "        table_friends_int.append(list_friends_int)\n",
    "\n",
    "    return table_friends_int\n"
   ]
  },
  {
   "cell_type": "code",
   "execution_count": null,
   "metadata": {},
   "outputs": [],
   "source": [
    "def create_node_edge(rows, table_friends):\n",
    "\n",
    "    nodes = []\n",
    "    edges = []\n",
    "    real_person = []\n",
    "    first = random.randint(0, 1499)\n",
    "    while len(nodes) < 20000:\n",
    "      second = first\n",
    "      first = random.randint(0, 1499)\n",
    "      nodes.append(int(rows[first][0]))\n",
    "      nodes.append(int(rows[second][0]))\n",
    "\n",
    "      real_person.append(int(rows[first][0]))\n",
    "\n",
    "      number_friends = random.randint(len(table_friends[first])//3, len(table_friends[first])//2)\n",
    "      sample_friends = random.sample(table_friends[first], number_friends)\n",
    "\n",
    "      for friend in sample_friends:\n",
    "        nodes.append(friend)\n",
    "        edges.append(tuple([int(rows[first][0]), friend]))\n",
    "\n",
    "      edges.append(tuple([int(rows[first][0]), int(rows[second][0])]))\n",
    "    \n",
    "    return [nodes, edges, real_person]"
   ]
  },
  {
   "cell_type": "code",
   "execution_count": null,
   "metadata": {},
   "outputs": [],
   "source": [
    "def create_graph(nodes, edges):\n",
    "    G = networkx.Graph()\n",
    "    G.add_nodes_from(nodes)\n",
    "    G.add_edges_from(edges)\n",
    "\n",
    "    return G"
   ]
  },
  {
   "cell_type": "code",
   "execution_count": null,
   "metadata": {},
   "outputs": [],
   "source": [
    "def find_degree_centrality(G):\n",
    "    list_degreeCentrality = networkx.degree_centrality(G)\n",
    "    series = pd.Series(list_degreeCentrality)\n",
    "    series.sort_values(axis=0, ascending=False, inplace=True, kind='quicksort', na_position='last', ignore_index=False,\n",
    "                       key=None)\n",
    "    sortedBy_degreeCentrality = series.to_dict()\n",
    "\n",
    "    return list(sortedBy_degreeCentrality)[:5]"
   ]
  },
  {
   "cell_type": "code",
   "execution_count": null,
   "metadata": {},
   "outputs": [],
   "source": [
    "def find_closeness_centrality(G):\n",
    "    csv_file_name = '/content/drive/MyDrive/socialnetwork /closeness.csv'\n",
    "\n",
    "    with open(csv_file_name, 'w', newline='') as csv_file:\n",
    "      csv_writer = csv.writer(csv_file)\n",
    "      list_closeness = {}\n",
    "      for node in G.nodes():\n",
    "        closeness_centrality = networkx.closeness_centrality(G, u=node)\n",
    "        csv_writer.writerow([node, closeness_centrality])\n",
    "        list_closeness[node] = closeness_centrality\n",
    "\n",
    "    series = pd.Series(list_closeness)\n",
    "    series.sort_values(axis=0, ascending=False, inplace=True, kind='quicksort', na_position='last', ignore_index=False,\n",
    "                       key=None)\n",
    "    sortedBy_closenessCentrality = series.to_dict()\n",
    "    return list(sortedBy_closenessCentrality)[:5]"
   ]
  },
  {
   "cell_type": "code",
   "execution_count": null,
   "metadata": {},
   "outputs": [],
   "source": [
    "def find_betweenness_centrality(G):\n",
    "    csv_file_name = '/content/drive/MyDrive/socialnetwork /betweenness.csv'\n",
    "\n",
    "    with open(csv_file_name, 'w', newline='') as csv_file:\n",
    "      csv_writer = csv.writer(csv_file)\n",
    "\n",
    "      counter = 0\n",
    "      betweenness_centrality = networkx.betweenness_centrality(G)\n",
    "      for key,value in betweenness_centrality.items():\n",
    "        csv_writer.writerow([key, value])\n",
    "\n",
    "    series = pd.Series(betweenness_centrality)\n",
    "    series.sort_values(axis=0, ascending=False, inplace=True, kind='quicksort', na_position='last', ignore_index=False,\n",
    "                       key=None)\n",
    "    sortedBy_betweennessCentrality = series.to_dict()\n",
    "    return list(sortedBy_betweennessCentrality)[:5]\n"
   ]
  },
  {
   "cell_type": "code",
   "execution_count": null,
   "metadata": {},
   "outputs": [],
   "source": [
    "file_path = '/content/drive/MyDrive/socialnetwork /output.csv'  # Replace with the actual path to your CSV file\n",
    "num_rows_to_read = 1500\n",
    "\n",
    "header, rows = read_csv_file(file_path, num_rows_to_read)"
   ]
  },
  {
   "cell_type": "code",
   "execution_count": null,
   "metadata": {},
   "outputs": [],
   "source": [
    "table_friends = find_all_freiend(rows)"
   ]
  },
  {
   "cell_type": "code",
   "execution_count": null,
   "metadata": {},
   "outputs": [],
   "source": [
    "[nodes, edges, real_person] = create_node_edge(rows, table_friends)\n",
    "print(len(real_person))"
   ]
  },
  {
   "cell_type": "code",
   "execution_count": null,
   "metadata": {},
   "outputs": [],
   "source": [
    "graph = create_graph(nodes, edges)"
   ]
  },
  {
   "cell_type": "code",
   "execution_count": null,
   "metadata": {},
   "outputs": [],
   "source": [
    "degree_centrality_list = find_degree_centrality(graph)\n",
    "print(degree_centrality_list)"
   ]
  }
 ],
 "metadata": {
  "kernelspec": {
   "display_name": "Python 3",
   "language": "python",
   "name": "python3"
  },
  "language_info": {
   "codemirror_mode": {
    "name": "ipython",
    "version": 2
   },
   "file_extension": ".py",
   "mimetype": "text/x-python",
   "name": "python",
   "nbconvert_exporter": "python",
   "pygments_lexer": "ipython2",
   "version": "2.7.6"
  }
 },
 "nbformat": 4,
 "nbformat_minor": 0
}
