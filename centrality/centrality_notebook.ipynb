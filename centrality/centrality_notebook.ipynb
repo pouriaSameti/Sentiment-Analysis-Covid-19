{
 "cells": [
  {
   "cell_type": "code",
   "execution_count": 1,
   "metadata": {
    "collapsed": false,
    "pycharm": {
     "name": "#%%\n"
    }
   },
   "outputs": [],
   "source": [
    "import networkx\n",
    "import matplotlib.pyplot as plt\n",
    "import pandas as pd\n",
    "import csv\n",
    "import re\n",
    "import json\n",
    "from ntscraper import Nitter"
   ]
  },
  {
   "cell_type": "code",
   "execution_count": null,
   "metadata": {
    "collapsed": false,
    "pycharm": {
     "name": "#%%\n"
    }
   },
   "outputs": [],
   "source": [
    "def read_csv_file(file_path, num_rows):\n",
    "\n",
    "    # df = pd.read_csv(file_path)\n",
    "    # print(df)\n",
    "    with open(file_path, 'r', newline='') as csvfile:\n",
    "\n",
    "        reader = csv.reader(csvfile)\n",
    "\n",
    "        # Skip the header if it exists\n",
    "        header = next(reader, None)\n",
    "\n",
    "        # Read the specified number of rows\n",
    "        rows = [next(reader) for _ in range(num_rows)]\n",
    "\n",
    "    return header, rows"
   ]
  }
 ],
 "metadata": {
  "kernelspec": {
   "display_name": "Python 3",
   "language": "python",
   "name": "python3"
  },
  "language_info": {
   "codemirror_mode": {
    "name": "ipython",
    "version": 2
   },
   "file_extension": ".py",
   "mimetype": "text/x-python",
   "name": "python",
   "nbconvert_exporter": "python",
   "pygments_lexer": "ipython2",
   "version": "2.7.6"
  }
 },
 "nbformat": 4,
 "nbformat_minor": 0
}
